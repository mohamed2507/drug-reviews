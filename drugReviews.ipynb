{
  "cells": [
    {
      "cell_type": "markdown",
      "source": [
        "# Drug Reviews"
      ],
      "metadata": {
        "id": "v8V-buGH6DUg"
      }
    },
    {
      "cell_type": "markdown",
      "source": [
        "## Install libraries"
      ],
      "metadata": {
        "id": "PVcB2est6K4j"
      }
    },
    {
      "cell_type": "code",
      "execution_count": null,
      "metadata": {
        "id": "pGQgPqW69mvI"
      },
      "outputs": [],
      "source": [
        "import matplotlib.pyplot as plt #Data visualization"
      ]
    },
    {
      "cell_type": "code",
      "execution_count": null,
      "metadata": {
        "id": "Hw7UnyxWz6l8"
      },
      "outputs": [],
      "source": [
        "#Tensorflow Modules\n",
        "from tensorflow.keras.models import Sequential #sequebtial model\n",
        "from tensorflow.keras.layers import Dense,LSTM,Embedding,Dropout #layers of the model\n",
        "import tensorflow as tf #tensorflow\n",
        "from tensorflow.keras.preprocessing.text import Tokenizer #tokenize a sentence\n",
        "from tensorflow.keras.preprocessing.sequence import pad_sequences #pad a sequence to fixed length"
      ]
    },
    {
      "cell_type": "code",
      "execution_count": null,
      "metadata": {
        "id": "Ju9HMfvb82-N"
      },
      "outputs": [],
      "source": [
        "#text preprocessing libraries\n",
        "from nltk.corpus import stopwords\n",
        "from nltk.tokenize import word_tokenize\n",
        "import nltk\n",
        "from nltk.stem import PorterStemmer\n",
        "import re"
      ]
    },
    {
      "cell_type": "code",
      "execution_count": null,
      "metadata": {
        "id": "Ricg-Itvat2I"
      },
      "outputs": [],
      "source": [
        "import pandas as pd #data manipulation\n",
        "import numpy as np #linear algerbra"
      ]
    },
    {
      "cell_type": "code",
      "execution_count": null,
      "metadata": {
        "colab": {
          "base_uri": "https://localhost:8080/"
        },
        "id": "_oxxU5zRaLJ8",
        "outputId": "21edd72e-8971-4ed4-a190-99ac1f6168de"
      },
      "outputs": [
        {
          "output_type": "stream",
          "name": "stdout",
          "text": [
            "Drive already mounted at /content/drive; to attempt to forcibly remount, call drive.mount(\"/content/drive\", force_remount=True).\n"
          ]
        }
      ],
      "source": [
        "from google.colab import drive \n",
        "drive.mount('/content/drive') #mount google drive to load/save the model"
      ]
    },
    {
      "cell_type": "code",
      "execution_count": null,
      "metadata": {
        "id": "h7tDUm6cjT5g"
      },
      "outputs": [],
      "source": [
        "plt.style.use(\"fivethirtyeight\") #Define the style of vizualization"
      ]
    },
    {
      "cell_type": "markdown",
      "source": [
        "## Load and Explore the data"
      ],
      "metadata": {
        "id": "iIQwvbiu6hP-"
      }
    },
    {
      "cell_type": "code",
      "execution_count": null,
      "metadata": {
        "id": "8YR1icFtyvnx"
      },
      "outputs": [],
      "source": [
        "train=pd.read_csv(\"/content/drugsComTrain_raw.csv\")\n",
        "test=pd.read_csv(\"/content/drugsComTest_raw.csv\",error_bad_lines=False,warn_bad_lines=True)#There are some bad lines"
      ]
    },
    {
      "cell_type": "code",
      "execution_count": null,
      "metadata": {
        "colab": {
          "base_uri": "https://localhost:8080/"
        },
        "id": "JWWe2KJm5jAr",
        "outputId": "0b341942-1b00-4e96-9150-4c97738bb3d4"
      },
      "outputs": [
        {
          "output_type": "execute_result",
          "data": {
            "text/plain": [
              "(161297, 7)"
            ]
          },
          "metadata": {},
          "execution_count": 15
        }
      ],
      "source": [
        "train.shape #data shape"
      ]
    },
    {
      "cell_type": "markdown",
      "source": [
        "In the data , there are 7 rows and 161297 rows"
      ],
      "metadata": {
        "id": "Lz_SaaaA6tEr"
      }
    },
    {
      "cell_type": "code",
      "execution_count": null,
      "metadata": {
        "colab": {
          "base_uri": "https://localhost:8080/"
        },
        "id": "BG7DcvOU5uot",
        "outputId": "6a2a2285-16ca-4ba4-9a9f-f8a3551c0c89"
      },
      "outputs": [
        {
          "output_type": "stream",
          "name": "stdout",
          "text": [
            "<class 'pandas.core.frame.DataFrame'>\n",
            "RangeIndex: 161297 entries, 0 to 161296\n",
            "Data columns (total 7 columns):\n",
            " #   Column       Non-Null Count   Dtype \n",
            "---  ------       --------------   ----- \n",
            " 0   uniqueID     161297 non-null  int64 \n",
            " 1   drugName     161297 non-null  object\n",
            " 2   condition    160398 non-null  object\n",
            " 3   review       161297 non-null  object\n",
            " 4   rating       161297 non-null  int64 \n",
            " 5   date         161297 non-null  object\n",
            " 6   usefulCount  161297 non-null  int64 \n",
            "dtypes: int64(3), object(4)\n",
            "memory usage: 8.6+ MB\n"
          ]
        }
      ],
      "source": [
        "train.info()"
      ]
    },
    {
      "cell_type": "markdown",
      "source": [
        "We are intrested only in the review and rating to conduct our nlp task"
      ],
      "metadata": {
        "id": "lLsiR3BG6ypH"
      }
    },
    {
      "cell_type": "code",
      "execution_count": null,
      "metadata": {
        "colab": {
          "base_uri": "https://localhost:8080/",
          "height": 206
        },
        "id": "GKb-DoHV556a",
        "outputId": "cb3f7f66-4dfc-41fd-b916-c0a998b50148"
      },
      "outputs": [
        {
          "output_type": "execute_result",
          "data": {
            "text/html": [
              "\n",
              "  <div id=\"df-adfb085c-fa5b-4b76-8114-ca663079e2a8\">\n",
              "    <div class=\"colab-df-container\">\n",
              "      <div>\n",
              "<style scoped>\n",
              "    .dataframe tbody tr th:only-of-type {\n",
              "        vertical-align: middle;\n",
              "    }\n",
              "\n",
              "    .dataframe tbody tr th {\n",
              "        vertical-align: top;\n",
              "    }\n",
              "\n",
              "    .dataframe thead th {\n",
              "        text-align: right;\n",
              "    }\n",
              "</style>\n",
              "<table border=\"1\" class=\"dataframe\">\n",
              "  <thead>\n",
              "    <tr style=\"text-align: right;\">\n",
              "      <th></th>\n",
              "      <th>uniqueID</th>\n",
              "      <th>drugName</th>\n",
              "      <th>condition</th>\n",
              "      <th>review</th>\n",
              "      <th>rating</th>\n",
              "      <th>date</th>\n",
              "      <th>usefulCount</th>\n",
              "    </tr>\n",
              "  </thead>\n",
              "  <tbody>\n",
              "    <tr>\n",
              "      <th>0</th>\n",
              "      <td>206461</td>\n",
              "      <td>Valsartan</td>\n",
              "      <td>Left Ventricular Dysfunction</td>\n",
              "      <td>\"It has no side effect, I take it in combinati...</td>\n",
              "      <td>9</td>\n",
              "      <td>20-May-12</td>\n",
              "      <td>27</td>\n",
              "    </tr>\n",
              "    <tr>\n",
              "      <th>1</th>\n",
              "      <td>95260</td>\n",
              "      <td>Guanfacine</td>\n",
              "      <td>ADHD</td>\n",
              "      <td>\"My son is halfway through his fourth week of ...</td>\n",
              "      <td>8</td>\n",
              "      <td>27-Apr-10</td>\n",
              "      <td>192</td>\n",
              "    </tr>\n",
              "    <tr>\n",
              "      <th>2</th>\n",
              "      <td>92703</td>\n",
              "      <td>Lybrel</td>\n",
              "      <td>Birth Control</td>\n",
              "      <td>\"I used to take another oral contraceptive, wh...</td>\n",
              "      <td>5</td>\n",
              "      <td>14-Dec-09</td>\n",
              "      <td>17</td>\n",
              "    </tr>\n",
              "    <tr>\n",
              "      <th>3</th>\n",
              "      <td>138000</td>\n",
              "      <td>Ortho Evra</td>\n",
              "      <td>Birth Control</td>\n",
              "      <td>\"This is my first time using any form of birth...</td>\n",
              "      <td>8</td>\n",
              "      <td>3-Nov-15</td>\n",
              "      <td>10</td>\n",
              "    </tr>\n",
              "    <tr>\n",
              "      <th>4</th>\n",
              "      <td>35696</td>\n",
              "      <td>Buprenorphine / naloxone</td>\n",
              "      <td>Opiate Dependence</td>\n",
              "      <td>\"Suboxone has completely turned my life around...</td>\n",
              "      <td>9</td>\n",
              "      <td>27-Nov-16</td>\n",
              "      <td>37</td>\n",
              "    </tr>\n",
              "  </tbody>\n",
              "</table>\n",
              "</div>\n",
              "      <button class=\"colab-df-convert\" onclick=\"convertToInteractive('df-adfb085c-fa5b-4b76-8114-ca663079e2a8')\"\n",
              "              title=\"Convert this dataframe to an interactive table.\"\n",
              "              style=\"display:none;\">\n",
              "        \n",
              "  <svg xmlns=\"http://www.w3.org/2000/svg\" height=\"24px\"viewBox=\"0 0 24 24\"\n",
              "       width=\"24px\">\n",
              "    <path d=\"M0 0h24v24H0V0z\" fill=\"none\"/>\n",
              "    <path d=\"M18.56 5.44l.94 2.06.94-2.06 2.06-.94-2.06-.94-.94-2.06-.94 2.06-2.06.94zm-11 1L8.5 8.5l.94-2.06 2.06-.94-2.06-.94L8.5 2.5l-.94 2.06-2.06.94zm10 10l.94 2.06.94-2.06 2.06-.94-2.06-.94-.94-2.06-.94 2.06-2.06.94z\"/><path d=\"M17.41 7.96l-1.37-1.37c-.4-.4-.92-.59-1.43-.59-.52 0-1.04.2-1.43.59L10.3 9.45l-7.72 7.72c-.78.78-.78 2.05 0 2.83L4 21.41c.39.39.9.59 1.41.59.51 0 1.02-.2 1.41-.59l7.78-7.78 2.81-2.81c.8-.78.8-2.07 0-2.86zM5.41 20L4 18.59l7.72-7.72 1.47 1.35L5.41 20z\"/>\n",
              "  </svg>\n",
              "      </button>\n",
              "      \n",
              "  <style>\n",
              "    .colab-df-container {\n",
              "      display:flex;\n",
              "      flex-wrap:wrap;\n",
              "      gap: 12px;\n",
              "    }\n",
              "\n",
              "    .colab-df-convert {\n",
              "      background-color: #E8F0FE;\n",
              "      border: none;\n",
              "      border-radius: 50%;\n",
              "      cursor: pointer;\n",
              "      display: none;\n",
              "      fill: #1967D2;\n",
              "      height: 32px;\n",
              "      padding: 0 0 0 0;\n",
              "      width: 32px;\n",
              "    }\n",
              "\n",
              "    .colab-df-convert:hover {\n",
              "      background-color: #E2EBFA;\n",
              "      box-shadow: 0px 1px 2px rgba(60, 64, 67, 0.3), 0px 1px 3px 1px rgba(60, 64, 67, 0.15);\n",
              "      fill: #174EA6;\n",
              "    }\n",
              "\n",
              "    [theme=dark] .colab-df-convert {\n",
              "      background-color: #3B4455;\n",
              "      fill: #D2E3FC;\n",
              "    }\n",
              "\n",
              "    [theme=dark] .colab-df-convert:hover {\n",
              "      background-color: #434B5C;\n",
              "      box-shadow: 0px 1px 3px 1px rgba(0, 0, 0, 0.15);\n",
              "      filter: drop-shadow(0px 1px 2px rgba(0, 0, 0, 0.3));\n",
              "      fill: #FFFFFF;\n",
              "    }\n",
              "  </style>\n",
              "\n",
              "      <script>\n",
              "        const buttonEl =\n",
              "          document.querySelector('#df-adfb085c-fa5b-4b76-8114-ca663079e2a8 button.colab-df-convert');\n",
              "        buttonEl.style.display =\n",
              "          google.colab.kernel.accessAllowed ? 'block' : 'none';\n",
              "\n",
              "        async function convertToInteractive(key) {\n",
              "          const element = document.querySelector('#df-adfb085c-fa5b-4b76-8114-ca663079e2a8');\n",
              "          const dataTable =\n",
              "            await google.colab.kernel.invokeFunction('convertToInteractive',\n",
              "                                                     [key], {});\n",
              "          if (!dataTable) return;\n",
              "\n",
              "          const docLinkHtml = 'Like what you see? Visit the ' +\n",
              "            '<a target=\"_blank\" href=https://colab.research.google.com/notebooks/data_table.ipynb>data table notebook</a>'\n",
              "            + ' to learn more about interactive tables.';\n",
              "          element.innerHTML = '';\n",
              "          dataTable['output_type'] = 'display_data';\n",
              "          await google.colab.output.renderOutput(dataTable, element);\n",
              "          const docLink = document.createElement('div');\n",
              "          docLink.innerHTML = docLinkHtml;\n",
              "          element.appendChild(docLink);\n",
              "        }\n",
              "      </script>\n",
              "    </div>\n",
              "  </div>\n",
              "  "
            ],
            "text/plain": [
              "   uniqueID                  drugName  ...       date usefulCount\n",
              "0    206461                 Valsartan  ...  20-May-12          27\n",
              "1     95260                Guanfacine  ...  27-Apr-10         192\n",
              "2     92703                    Lybrel  ...  14-Dec-09          17\n",
              "3    138000                Ortho Evra  ...   3-Nov-15          10\n",
              "4     35696  Buprenorphine / naloxone  ...  27-Nov-16          37\n",
              "\n",
              "[5 rows x 7 columns]"
            ]
          },
          "metadata": {},
          "execution_count": 17
        }
      ],
      "source": [
        "train.head()"
      ]
    },
    {
      "cell_type": "code",
      "execution_count": null,
      "metadata": {
        "colab": {
          "base_uri": "https://localhost:8080/",
          "height": 111
        },
        "id": "yXe6uUrLtMas",
        "outputId": "56d607c9-cd8d-478d-c8ff-eec4d5e917dc"
      },
      "outputs": [
        {
          "output_type": "execute_result",
          "data": {
            "application/vnd.google.colaboratory.intrinsic+json": {
              "type": "string"
            },
            "text/plain": [
              "'\"I used to take another oral contraceptive, which had 21 pill cycle, and was very happy- very light periods, max 5 days, no other side effects. But it contained hormone gestodene, which is not available in US, so I switched to Lybrel, because the ingredients are similar. When my other pills ended, I started Lybrel immediately, on my first day of period, as the instructions said. And the period lasted for two weeks. When taking the second pack- same two weeks. And now, with third pack things got even worse- my third period lasted for two weeks and now it&#039;s the end of the third week- I still have daily brown discharge.\\r\\nThe positive side is that I didn&#039;t have any other side effects. The idea of being period free was so tempting... Alas.\"'"
            ]
          },
          "metadata": {},
          "execution_count": 18
        }
      ],
      "source": [
        "train[\"review\"][2] # an example of a review"
      ]
    },
    {
      "cell_type": "code",
      "source": [
        "#number of drugs\n",
        "len(train[\"drugName\"].value_counts().keys())"
      ],
      "metadata": {
        "colab": {
          "base_uri": "https://localhost:8080/"
        },
        "id": "dOWgp1rX9d9f",
        "outputId": "b144d8a3-b218-4956-a9d4-cd90a5a81ab2"
      },
      "execution_count": null,
      "outputs": [
        {
          "output_type": "execute_result",
          "data": {
            "text/plain": [
              "3436"
            ]
          },
          "metadata": {},
          "execution_count": 19
        }
      ]
    },
    {
      "cell_type": "code",
      "source": [
        "#Visualzing the most used drugs\n",
        "X=train.loc[train['drugName'].isin(list(train[\"drugName\"].value_counts()[0:5].keys())),\"drugName\"]\n",
        "plt.hist(X)\n",
        "plt.legend()\n",
        "plt.tight_layout()\n",
        "plt.xticks(rotation=\"vertical\")\n",
        "plt.xlabel(\"Drug Name\")\n",
        "plt.ylabel(\"number\")\n",
        "plt.show()"
      ],
      "metadata": {
        "colab": {
          "base_uri": "https://localhost:8080/",
          "height": 543
        },
        "id": "M1rDdHqnFNJO",
        "outputId": "a373b782-5e1a-47b0-8692-1612942eb268"
      },
      "execution_count": null,
      "outputs": [
        {
          "output_type": "stream",
          "name": "stderr",
          "text": [
            "No handles with labels found to put in legend.\n"
          ]
        },
        {
          "output_type": "display_data",
          "data": {
            "image/png": "[encoded data removed]",
            "text/plain": [
              "<Figure size 432x288 with 1 Axes>"
            ]
          },
          "metadata": {}
        }
      ]
    },
    {
      "cell_type": "code",
      "source": [
        "#Visualzing top 20 best drugs by rating\n",
        "X=train[[\"drugName\",\"rating\"]].groupby(by=\"drugName\").mean().sort_values(by=\"rating\",ascending=False)[0:20]\n",
        "plt.bar(X.index,X[\"rating\"],color=\"#ff8080\")\n",
        "plt.xticks(rotation=\"vertical\")\n",
        "plt.xlabel('Drug Name')\n",
        "plt.ylabel(\"Rating\")"
      ],
      "metadata": {
        "colab": {
          "base_uri": "https://localhost:8080/",
          "height": 490
        },
        "id": "1fuzSkHSLwzF",
        "outputId": "dea04f2a-60c5-41db-e752-f6551967e547"
      },
      "execution_count": null,
      "outputs": [
        {
          "output_type": "execute_result",
          "data": {
            "text/plain": [
              "Text(0, 0.5, 'Rating')"
            ]
          },
          "metadata": {},
          "execution_count": 59
        },
        {
          "output_type": "display_data",
          "data": {
            "image/png": "[encoded data removed]",
            "text/plain": [
              "<Figure size 432x288 with 1 Axes>"
            ]
          },
          "metadata": {}
        }
      ]
    },
    {
      "cell_type": "code",
      "source": [
        "#Visualzing top 5 worst drugs by rating\n",
        "X=train[[\"drugName\",\"rating\"]].groupby(by=\"drugName\").mean().sort_values(by=\"rating\")[0:20]\n",
        "plt.bar(X.index,X[\"rating\"],color=\"#ff8080\")\n",
        "plt.xticks(rotation=\"vertical\")\n",
        "plt.xlabel('Drug Name')\n",
        "plt.ylabel(\"Rating\")"
      ],
      "metadata": {
        "colab": {
          "base_uri": "https://localhost:8080/",
          "height": 587
        },
        "id": "srTxnc3lOQfh",
        "outputId": "8d1b75c6-2f3a-4cb7-8f6c-9d92b4446b0c"
      },
      "execution_count": null,
      "outputs": [
        {
          "output_type": "execute_result",
          "data": {
            "text/plain": [
              "Text(0, 0.5, 'Rating')"
            ]
          },
          "metadata": {},
          "execution_count": 61
        },
        {
          "output_type": "display_data",
          "data": {
            "image/png": "[encoded data removed]",
            "text/plain": [
              "<Figure size 432x288 with 1 Axes>"
            ]
          },
          "metadata": {}
        }
      ]
    },
    {
      "cell_type": "markdown",
      "source": [
        "## Data preprocessing"
      ],
      "metadata": {
        "id": "f4KXDFOR7D4M"
      }
    },
    {
      "cell_type": "code",
      "execution_count": null,
      "metadata": {
        "id": "_HH5OKue8EJn"
      },
      "outputs": [],
      "source": [
        "#remove the ' from the data\n",
        "train[\"review\"]=[re.sub(\"&#039;\",\"'\", u) for u in train['review']]\n",
        "test[\"review\"]=[re.sub(\"&#039;\",\"'\", u) for u in test['review']]"
      ]
    },
    {
      "cell_type": "code",
      "execution_count": null,
      "metadata": {
        "id": "syU1mRAK62pU"
      },
      "outputs": [],
      "source": [
        "#remove all special caracteres \n",
        "train[\"review\"]=[re.sub('[^a-zA-Z ]+', '', _) for _ in train[\"review\"]]\n",
        "test[\"review\"]=[re.sub('[^a-zA-Z ]+', '', _) for _ in test[\"review\"]]"
      ]
    },
    {
      "cell_type": "code",
      "execution_count": null,
      "metadata": {
        "id": "jMV_xtLW7cQ7"
      },
      "outputs": [],
      "source": [
        "#lower case all letters\n",
        "train['review']=[x.lower() for  x in train['review']]\n",
        "test['review']=[x.lower() for  x in test['review']]"
      ]
    },
    {
      "cell_type": "code",
      "execution_count": null,
      "metadata": {
        "id": "Qx7RItS2-Ln_"
      },
      "outputs": [],
      "source": [
        "#initialize the Porter stemmer\n",
        "ps = PorterStemmer()"
      ]
    },
    {
      "cell_type": "code",
      "execution_count": null,
      "metadata": {
        "colab": {
          "base_uri": "https://localhost:8080/"
        },
        "id": "aar5UFHC85sW",
        "outputId": "e9495897-5f12-4b03-a6c3-70d371965d06"
      },
      "outputs": [
        {
          "output_type": "stream",
          "name": "stdout",
          "text": [
            "[nltk_data] Downloading package stopwords to /root/nltk_data...\n",
            "[nltk_data]   Package stopwords is already up-to-date!\n"
          ]
        }
      ],
      "source": [
        "#download stop words\n",
        "nltk.download('stopwords')\n",
        "stop_words = set(stopwords.words('english'))"
      ]
    },
    {
      "cell_type": "code",
      "execution_count": null,
      "metadata": {
        "colab": {
          "base_uri": "https://localhost:8080/"
        },
        "id": "qgGSn55A9UJY",
        "outputId": "972da760-2940-42a6-fa4d-10e70188b8ec"
      },
      "outputs": [
        {
          "output_type": "stream",
          "name": "stdout",
          "text": [
            "[nltk_data] Downloading package punkt to /root/nltk_data...\n",
            "[nltk_data]   Package punkt is already up-to-date!\n"
          ]
        },
        {
          "output_type": "execute_result",
          "data": {
            "text/plain": [
              "True"
            ]
          },
          "metadata": {},
          "execution_count": 61
        }
      ],
      "source": [
        "nltk.download('punkt')"
      ]
    },
    {
      "cell_type": "code",
      "execution_count": null,
      "metadata": {
        "id": "v2Jqy4Qp9BHb"
      },
      "outputs": [],
      "source": [
        "data_train=[]#the new train data\n",
        "data_test=[]#the new test data\n",
        "lens=[]#collect the length of every row\n",
        "vocab=[]#collect the vocabulary of all the corpus\n",
        "for el in train['review']:\n",
        "  x=[]\n",
        "  for word in word_tokenize(el):\n",
        "    if word not in stop_words:#remove stop words\n",
        "      x.append(ps.stem(word))#apply stemmer \n",
        "  lens.append(len(x))#add the length of the text\n",
        "  data_train.append(\" \".join(x))\n",
        "  vocab.extend(x)#add the vocab\n",
        "for el in test['review']:\n",
        "  x=[]\n",
        "  for word in word_tokenize(el):\n",
        "    if word not in stop_words:\n",
        "      x.append(ps.stem(word))\n",
        "  data_test.append(\" \".join(x))\n",
        "\n"
      ]
    },
    {
      "cell_type": "code",
      "execution_count": null,
      "metadata": {
        "colab": {
          "base_uri": "https://localhost:8080/",
          "height": 129
        },
        "id": "GexWsEcc-Yq8",
        "outputId": "d4b7c09a-1b72-4024-acc5-12909a914835"
      },
      "outputs": [
        {
          "output_type": "execute_result",
          "data": {
            "text/plain": [
              "(array([11555., 19553., 23421., 23198., 20699., 19377., 28732., 13513.,\n",
              "          909.,    94.]),\n",
              " array([  0.,  10.,  20.,  30.,  40.,  50.,  60.,  70.,  80.,  90., 100.]),\n",
              " <a list of 10 Patch objects>)"
            ]
          },
          "metadata": {},
          "execution_count": 63
        },
        {
          "output_type": "display_data",
          "data": {
            "image/png": "[encoded data removed]",
            "text/plain": [
              "<Figure size 432x288 with 1 Axes>"
            ]
          },
          "metadata": {}
        }
      ],
      "source": [
        "plt.hist(lens,range=[0,100]) # plot a histogram of the length of the corpus"
      ]
    },
    {
      "cell_type": "code",
      "execution_count": null,
      "metadata": {
        "id": "A2TRqvaHBQBx"
      },
      "outputs": [],
      "source": [
        "#take max length accepted as the length that 90% of the sentences does not surpass\n",
        "max_length=int(np.quantile(lens,0.9))"
      ]
    },
    {
      "cell_type": "code",
      "execution_count": null,
      "metadata": {
        "colab": {
          "base_uri": "https://localhost:8080/"
        },
        "id": "2mBUyzBcBjr_",
        "outputId": "c8639841-e0f6-484d-ef2d-1463bef67faf"
      },
      "outputs": [
        {
          "output_type": "execute_result",
          "data": {
            "text/plain": [
              "61791"
            ]
          },
          "metadata": {},
          "execution_count": 65
        }
      ],
      "source": [
        "vocab=list(set(vocab)) #remove duplicate\n",
        "vocab_size=int(len(vocab)*0.95) #accepte 95% of vocabulary and 5% will be considered as out-of-vocabulary-token\n",
        "vocab_size"
      ]
    },
    {
      "cell_type": "code",
      "execution_count": null,
      "metadata": {
        "id": "jFATaW4WdGcC"
      },
      "outputs": [],
      "source": [
        "#initialize the tokenizer\n",
        "tokenizer=Tokenizer(num_words=vocab_size,oov_token=\"<OOV>\")"
      ]
    },
    {
      "cell_type": "code",
      "execution_count": null,
      "metadata": {
        "id": "jUG57LWFeYfw"
      },
      "outputs": [],
      "source": [
        "#fit the tokenizer\n",
        "tokenizer.fit_on_texts(data_train)"
      ]
    },
    {
      "cell_type": "code",
      "execution_count": null,
      "metadata": {
        "colab": {
          "base_uri": "https://localhost:8080/"
        },
        "id": "lOyOPRwiejh3",
        "outputId": "17f2b7ce-9a12-4b4b-fab9-194338c3f80c"
      },
      "outputs": [
        {
          "output_type": "execute_result",
          "data": {
            "text/plain": [
              "{'<OOV>': 1,\n",
              " 'take': 2,\n",
              " 'day': 3,\n",
              " 'month': 4,\n",
              " 'year': 5,\n",
              " 'effect': 6,\n",
              " 'work': 7,\n",
              " 'get': 8,\n",
              " 'week': 9,\n",
              " 'start': 10,\n",
              " 'im': 11,\n",
              " 'pain': 12,\n",
              " 'side': 13,\n",
              " 'feel': 14,\n",
              " 'time': 15,\n",
              " 'ive': 16,\n",
              " 'mg': 17,\n",
              " 'first': 18,\n",
              " 'like': 19,\n",
              " 'pill': 20,\n",
              " 'use': 21,\n",
              " 'period': 22,\n",
              " 'tri': 23,\n",
              " 'help': 24,\n",
              " 'go': 25,\n",
              " 'would': 26,\n",
              " 'medic': 27,\n",
              " 'one': 28,\n",
              " 'doctor': 29,\n",
              " 'back': 30,\n",
              " 'also': 31,\n",
              " 'took': 32,\n",
              " 'weight': 33,\n",
              " 'got': 34,\n",
              " 'medicin': 35,\n",
              " 'sinc': 36,\n",
              " 'dont': 37,\n",
              " 'life': 38,\n",
              " 'stop': 39,\n",
              " 'still': 40,\n",
              " 'bad': 41,\n",
              " 'realli': 42,\n",
              " 'much': 43,\n",
              " 'anxieti': 44,\n",
              " 'control': 45,\n",
              " 'never': 46,\n",
              " 'hour': 47,\n",
              " 'last': 48,\n",
              " 'depress': 49,\n",
              " 'went': 50,\n",
              " 'sleep': 51,\n",
              " 'better': 52,\n",
              " 'sever': 53,\n",
              " 'two': 54,\n",
              " 'even': 55,\n",
              " 'felt': 56,\n",
              " 'gain': 57,\n",
              " 'night': 58,\n",
              " 'well': 59,\n",
              " 'everi': 60,\n",
              " 'good': 61,\n",
              " 'didnt': 62,\n",
              " 'great': 63,\n",
              " 'cramp': 64,\n",
              " 'drug': 65,\n",
              " 'make': 66,\n",
              " 'dose': 67,\n",
              " 'thing': 68,\n",
              " 'ago': 69,\n",
              " 'prescrib': 70,\n",
              " 'acn': 71,\n",
              " 'birth': 72,\n",
              " 'made': 73,\n",
              " 'littl': 74,\n",
              " 'put': 75,\n",
              " 'almost': 76,\n",
              " 'want': 77,\n",
              " 'problem': 78,\n",
              " 'could': 79,\n",
              " 'chang': 80,\n",
              " 'think': 81,\n",
              " 'headach': 82,\n",
              " 'notic': 83,\n",
              " 'recommend': 84,\n",
              " 'differ': 85,\n",
              " 'lot': 86,\n",
              " 'mood': 87,\n",
              " 'bleed': 88,\n",
              " 'need': 89,\n",
              " 'eat': 90,\n",
              " 'say': 91,\n",
              " 'normal': 92,\n",
              " 'hope': 93,\n",
              " 'experi': 94,\n",
              " 'know': 95,\n",
              " 'far': 96,\n",
              " 'ever': 97,\n",
              " 'skin': 98,\n",
              " 'amp': 99,\n",
              " 'experienc': 100,\n",
              " 'caus': 101,\n",
              " 'noth': 102,\n",
              " 'symptom': 103,\n",
              " 'away': 104,\n",
              " 'lb': 105,\n",
              " 'nausea': 106,\n",
              " 'thought': 107,\n",
              " 'sex': 108,\n",
              " 'see': 109,\n",
              " 'give': 110,\n",
              " 'seem': 111,\n",
              " 'lost': 112,\n",
              " 'love': 113,\n",
              " 'without': 114,\n",
              " 'extrem': 115,\n",
              " 'morn': 116,\n",
              " 'cant': 117,\n",
              " 'long': 118,\n",
              " 'bodi': 119,\n",
              " 'old': 120,\n",
              " 'wors': 121,\n",
              " 'howev': 122,\n",
              " 'spot': 123,\n",
              " 'horribl': 124,\n",
              " 'switch': 125,\n",
              " 'suffer': 126,\n",
              " 'taken': 127,\n",
              " 'within': 128,\n",
              " 'med': 129,\n",
              " 'alway': 130,\n",
              " 'mani': 131,\n",
              " 'clear': 132,\n",
              " 'complet': 133,\n",
              " 'next': 134,\n",
              " 'insert': 135,\n",
              " 'around': 136,\n",
              " 'pound': 137,\n",
              " 'come': 138,\n",
              " 'havent': 139,\n",
              " 'final': 140,\n",
              " 'due': 141,\n",
              " 'increas': 142,\n",
              " 'abl': 143,\n",
              " 'blood': 144,\n",
              " 'right': 145,\n",
              " 'stomach': 146,\n",
              " 'migrain': 147,\n",
              " 'gone': 148,\n",
              " 'gave': 149,\n",
              " 'three': 150,\n",
              " 'later': 151,\n",
              " 'second': 152,\n",
              " 'read': 153,\n",
              " 'best': 154,\n",
              " 'sure': 155,\n",
              " 'issu': 156,\n",
              " 'keep': 157,\n",
              " 'couldnt': 158,\n",
              " 'way': 159,\n",
              " 'found': 160,\n",
              " 'though': 161,\n",
              " 'happi': 162,\n",
              " 'peopl': 163,\n",
              " 'less': 164,\n",
              " 'shot': 165,\n",
              " 'review': 166,\n",
              " 'daili': 167,\n",
              " 'anyth': 168,\n",
              " 'swing': 169,\n",
              " 'said': 170,\n",
              " 'attack': 171,\n",
              " 'drive': 172,\n",
              " 'told': 173,\n",
              " 'anoth': 174,\n",
              " 'coupl': 175,\n",
              " 'someth': 176,\n",
              " 'face': 177,\n",
              " 'result': 178,\n",
              " 'everyth': 179,\n",
              " 'end': 180,\n",
              " 'quit': 181,\n",
              " 'infect': 182,\n",
              " 'minut': 183,\n",
              " 'terribl': 184,\n",
              " 'half': 185,\n",
              " 'dri': 186,\n",
              " 'worst': 187,\n",
              " 'actual': 188,\n",
              " 'new': 189,\n",
              " 'stay': 190,\n",
              " 'continu': 191,\n",
              " 'worth': 192,\n",
              " 'tire': 193,\n",
              " 'bit': 194,\n",
              " 'decid': 195,\n",
              " 'wonder': 196,\n",
              " 'may': 197,\n",
              " 'look': 198,\n",
              " 'drink': 199,\n",
              " 'wasnt': 200,\n",
              " 'improv': 201,\n",
              " 'find': 202,\n",
              " 'panic': 203,\n",
              " 'high': 204,\n",
              " 'dr': 205,\n",
              " 'relief': 206,\n",
              " 'light': 207,\n",
              " 'pretti': 208,\n",
              " 'loss': 209,\n",
              " 'definit': 210,\n",
              " 'past': 211,\n",
              " 'longer': 212,\n",
              " 'appetit': 213,\n",
              " 'today': 214,\n",
              " 'pregnant': 215,\n",
              " 'lose': 216,\n",
              " 'came': 217,\n",
              " 'water': 218,\n",
              " 'heavi': 219,\n",
              " 'thank': 220,\n",
              " 'product': 221,\n",
              " 'doesnt': 222,\n",
              " 'bed': 223,\n",
              " 'usual': 224,\n",
              " 'diagnos': 225,\n",
              " 'dizzi': 226,\n",
              " 'sick': 227,\n",
              " 'sometim': 228,\n",
              " 'gener': 229,\n",
              " 'twice': 230,\n",
              " 'treatment': 231,\n",
              " 'low': 232,\n",
              " 'given': 233,\n",
              " 'burn': 234,\n",
              " 'person': 235,\n",
              " 'full': 236,\n",
              " 'everyon': 237,\n",
              " 'worri': 238,\n",
              " 'happen': 239,\n",
              " 'amaz': 240,\n",
              " 'anyon': 241,\n",
              " 'th': 242,\n",
              " 'that': 243,\n",
              " 'insur': 244,\n",
              " 'fine': 245,\n",
              " 'enough': 246,\n",
              " 'pressur': 247,\n",
              " 'ill': 248,\n",
              " 'inject': 249,\n",
              " 'dosag': 250,\n",
              " 'hard': 251,\n",
              " 'done': 252,\n",
              " 'mouth': 253,\n",
              " 'point': 254,\n",
              " 'began': 255,\n",
              " 'remov': 256,\n",
              " 'food': 257,\n",
              " 'energi': 258,\n",
              " 'immedi': 259,\n",
              " 'wake': 260,\n",
              " 'absolut': 261,\n",
              " 'lower': 262,\n",
              " 'level': 263,\n",
              " 'tast': 264,\n",
              " 'neg': 265,\n",
              " 'wait': 266,\n",
              " 'cri': 267,\n",
              " 'recent': 268,\n",
              " 'patch': 269,\n",
              " 'pm': 270,\n",
              " 'alreadi': 271,\n",
              " 'hurt': 272,\n",
              " 'least': 273,\n",
              " 'tell': 274,\n",
              " 'emot': 275,\n",
              " 'els': 276,\n",
              " 'id': 277,\n",
              " 'leg': 278,\n",
              " 'heart': 279,\n",
              " 'plan': 280,\n",
              " 'mild': 281,\n",
              " 'yr': 282,\n",
              " 'head': 283,\n",
              " 'affect': 284,\n",
              " 'hair': 285,\n",
              " 'overal': 286,\n",
              " 'breast': 287,\n",
              " 'exercis': 288,\n",
              " 'mayb': 289,\n",
              " 'becam': 290,\n",
              " 'reason': 291,\n",
              " 'free': 292,\n",
              " 'smoke': 293,\n",
              " 'soon': 294,\n",
              " 'live': 295,\n",
              " 'aw': 296,\n",
              " 'sweat': 297,\n",
              " 'insomnia': 298,\n",
              " 'break': 299,\n",
              " 'stress': 300,\n",
              " 'total': 301,\n",
              " 'deal': 302,\n",
              " 'diarrhea': 303,\n",
              " 'walk': 304,\n",
              " 'call': 305,\n",
              " 'itch': 306,\n",
              " 'care': 307,\n",
              " 'anymor': 308,\n",
              " 'test': 309,\n",
              " 'hormon': 310,\n",
              " 'posit': 311,\n",
              " 'eye': 312,\n",
              " 'major': 313,\n",
              " 'left': 314,\n",
              " 'irrit': 315,\n",
              " 'ask': 316,\n",
              " 'per': 317,\n",
              " 'whole': 318,\n",
              " 'constip': 319,\n",
              " 'sore': 320,\n",
              " 'disord': 321,\n",
              " 'muscl': 322,\n",
              " 'other': 323,\n",
              " 'fall': 324,\n",
              " 'small': 325,\n",
              " 'surgeri': 326,\n",
              " 'begin': 327,\n",
              " 'pack': 328,\n",
              " 'miracl': 329,\n",
              " 'hand': 330,\n",
              " 'cold': 331,\n",
              " 'etc': 332,\n",
              " 'believ': 333,\n",
              " 'short': 334,\n",
              " 'pregnanc': 335,\n",
              " 'diet': 336,\n",
              " 'constant': 337,\n",
              " 'reduc': 338,\n",
              " 'rememb': 339,\n",
              " 'yet': 340,\n",
              " 'although': 341,\n",
              " 'job': 342,\n",
              " 'crazi': 343,\n",
              " 'chronic': 344,\n",
              " 'along': 345,\n",
              " 'vomit': 346,\n",
              " 'mirena': 347,\n",
              " 'let': 348,\n",
              " 'bloat': 349,\n",
              " 'x': 350,\n",
              " 'fatigu': 351,\n",
              " 'pleas': 352,\n",
              " 'nauseou': 353,\n",
              " 'part': 354,\n",
              " 'scare': 355,\n",
              " 'gotten': 356,\n",
              " 'prescript': 357,\n",
              " 'becom': 358,\n",
              " 'cough': 359,\n",
              " 'everyday': 360,\n",
              " 'hospit': 361,\n",
              " 'tablet': 362,\n",
              " 'lexapro': 363,\n",
              " 'cycl': 364,\n",
              " 'follow': 365,\n",
              " 'zoloft': 366,\n",
              " 'wish': 367,\n",
              " 'decreas': 368,\n",
              " 'big': 369,\n",
              " 'regular': 370,\n",
              " 'develop': 371,\n",
              " 'suggest': 372,\n",
              " 'talk': 373,\n",
              " 'breath': 374,\n",
              " 'slight': 375,\n",
              " 'save': 376,\n",
              " 'asleep': 377,\n",
              " 'woke': 378,\n",
              " 'highli': 379,\n",
              " 'nexplanon': 380,\n",
              " 'bc': 381,\n",
              " 'withdraw': 382,\n",
              " 'turn': 383,\n",
              " 'doc': 384,\n",
              " 'toler': 385,\n",
              " 'cream': 386,\n",
              " 'red': 387,\n",
              " 'four': 388,\n",
              " 'mind': 389,\n",
              " 'arm': 390,\n",
              " 'function': 391,\n",
              " 'constantli': 392,\n",
              " 'er': 393,\n",
              " 'move': 394,\n",
              " 'drop': 395,\n",
              " 'stuff': 396,\n",
              " 'cover': 397,\n",
              " 'home': 398,\n",
              " 'implant': 399,\n",
              " 'activ': 400,\n",
              " 'probabl': 401,\n",
              " 'except': 402,\n",
              " 'crave': 403,\n",
              " 'moodi': 404,\n",
              " 'hate': 405,\n",
              " 'school': 406,\n",
              " 'place': 407,\n",
              " 'either': 408,\n",
              " 'manag': 409,\n",
              " 'liter': 410,\n",
              " 'reaction': 411,\n",
              " 'antibiot': 412,\n",
              " 'chest': 413,\n",
              " 'treat': 414,\n",
              " 'husband': 415,\n",
              " 'iud': 416,\n",
              " 'kept': 417,\n",
              " 'type': 418,\n",
              " 'earli': 419,\n",
              " 'entir': 420,\n",
              " 'current': 421,\n",
              " 'fast': 422,\n",
              " 'antidepress': 423,\n",
              " 'huge': 424,\n",
              " 'hot': 425,\n",
              " 'prevent': 426,\n",
              " 'might': 427,\n",
              " 'quickli': 428,\n",
              " 'wouldnt': 429,\n",
              " 'plu': 430,\n",
              " 'finish': 431,\n",
              " 'ach': 432,\n",
              " 'occasion': 433,\n",
              " 'super': 434,\n",
              " 'calm': 435,\n",
              " 'age': 436,\n",
              " 'third': 437,\n",
              " 'late': 438,\n",
              " 'xanax': 439,\n",
              " 'wont': 440,\n",
              " 'rest': 441,\n",
              " 'miss': 442,\n",
              " 'realiz': 443,\n",
              " 'knee': 444,\n",
              " 'dream': 445,\n",
              " 'amount': 446,\n",
              " 'wear': 447,\n",
              " 'sugar': 448,\n",
              " 'run': 449,\n",
              " 'b': 450,\n",
              " 'possibl': 451,\n",
              " 'pass': 452,\n",
              " 'famili': 453,\n",
              " 'anxiou': 454,\n",
              " 'weigh': 455,\n",
              " 'bipolar': 456,\n",
              " 'cost': 457,\n",
              " 'easi': 458,\n",
              " 'sleepi': 459,\n",
              " 'kind': 460,\n",
              " 'expens': 461,\n",
              " 'friend': 462,\n",
              " 'goe': 463,\n",
              " 'initi': 464,\n",
              " 'troubl': 465,\n",
              " 'pay': 466,\n",
              " 'implanon': 467,\n",
              " 'leav': 468,\n",
              " 'glad': 469,\n",
              " 'healthi': 470,\n",
              " 'cymbalta': 471,\n",
              " 'addict': 472,\n",
              " 'rate': 473,\n",
              " 'cut': 474,\n",
              " 'form': 475,\n",
              " 'isnt': 476,\n",
              " 'kid': 477,\n",
              " 'nd': 478,\n",
              " 'boyfriend': 479,\n",
              " 'luck': 480,\n",
              " 'ye': 481,\n",
              " 'struggl': 482,\n",
              " 'post': 483,\n",
              " 'bare': 484,\n",
              " 'hr': 485,\n",
              " 'return': 486,\n",
              " 'babi': 487,\n",
              " 'brain': 488,\n",
              " 'especi': 489,\n",
              " 'expect': 490,\n",
              " 'intens': 491,\n",
              " 'son': 492,\n",
              " 'suicid': 493,\n",
              " 'neck': 494,\n",
              " 'combin': 495,\n",
              " 'st': 496,\n",
              " 'cours': 497,\n",
              " 'rd': 498,\n",
              " 'prior': 499,\n",
              " 'suppos': 500,\n",
              " 'reliev': 501,\n",
              " 'fact': 502,\n",
              " 'instead': 503,\n",
              " 'honestli': 504,\n",
              " 'prozac': 505,\n",
              " 'joint': 506,\n",
              " 'often': 507,\n",
              " 'straight': 508,\n",
              " 'size': 509,\n",
              " 'swell': 510,\n",
              " 'nearli': 511,\n",
              " 'bowel': 512,\n",
              " 'brand': 513,\n",
              " 'guess': 514,\n",
              " 'consid': 515,\n",
              " 'area': 516,\n",
              " 'six': 517,\n",
              " 'includ': 518,\n",
              " 'effexor': 519,\n",
              " 'appli': 520,\n",
              " 'hungri': 521,\n",
              " 'drowsi': 522,\n",
              " 'bathroom': 523,\n",
              " 'rather': 524,\n",
              " 'min': 525,\n",
              " 'feet': 526,\n",
              " 'subsid': 527,\n",
              " 'someon': 528,\n",
              " 'real': 529,\n",
              " 'relax': 530,\n",
              " 'yeast': 531,\n",
              " 'depo': 532,\n",
              " 'sensit': 533,\n",
              " 'breakout': 534,\n",
              " 'check': 535,\n",
              " 'wellbutrin': 536,\n",
              " 'pimpl': 537,\n",
              " 'must': 538,\n",
              " 'yesterday': 539,\n",
              " 'case': 540,\n",
              " 'stick': 541,\n",
              " 'unfortun': 542,\n",
              " 'weird': 543,\n",
              " 'slowli': 544,\n",
              " 'saw': 545,\n",
              " 'self': 546,\n",
              " 'god': 547,\n",
              " 'knew': 548,\n",
              " 'condit': 549,\n",
              " 'term': 550,\n",
              " 'five': 551,\n",
              " 'adjust': 552,\n",
              " 'broke': 553,\n",
              " 'paxil': 554,\n",
              " 'mean': 555,\n",
              " 'skyla': 556,\n",
              " 'minor': 557,\n",
              " 'rid': 558,\n",
              " 'seizur': 559,\n",
              " 'anyway': 560,\n",
              " 'upset': 561,\n",
              " 'procedur': 562,\n",
              " 'health': 563,\n",
              " 'none': 564,\n",
              " 'minim': 565,\n",
              " 'numb': 566,\n",
              " 'rash': 567,\n",
              " 'forget': 568,\n",
              " 'episod': 569,\n",
              " 'kick': 570,\n",
              " 'eventu': 571,\n",
              " 'slightli': 572,\n",
              " 'nerv': 573,\n",
              " 'ok': 574,\n",
              " 'sexual': 575,\n",
              " 'system': 576,\n",
              " 'sit': 577,\n",
              " 'nose': 578,\n",
              " 'seriou': 579,\n",
              " 'nightmar': 580,\n",
              " 'allow': 581,\n",
              " 'mental': 582,\n",
              " 'frequent': 583,\n",
              " 'nervou': 584,\n",
              " 'success': 585,\n",
              " 'physic': 586,\n",
              " 'close': 587,\n",
              " 'uncomfort': 588,\n",
              " 'strong': 589,\n",
              " 'celexa': 590,\n",
              " 'flash': 591,\n",
              " 'social': 592,\n",
              " 'option': 593,\n",
              " 'mention': 594,\n",
              " 'research': 595,\n",
              " 'enjoy': 596,\n",
              " 'fibromyalgia': 597,\n",
              " 'hit': 598,\n",
              " 'concern': 599,\n",
              " 'ad': 600,\n",
              " 'urin': 601,\n",
              " 'seen': 602,\n",
              " 'focu': 603,\n",
              " 'yaz': 604,\n",
              " 'allergi': 605,\n",
              " 'tender': 606,\n",
              " 'irregular': 607,\n",
              " 'meal': 608,\n",
              " 'sad': 609,\n",
              " 'difficult': 610,\n",
              " 'okay': 611,\n",
              " 'throat': 612,\n",
              " 'lighter': 613,\n",
              " 'adhd': 614,\n",
              " 'child': 615,\n",
              " 'bottl': 616,\n",
              " 'itchi': 617,\n",
              " 'dermatologist': 618,\n",
              " 'singl': 619,\n",
              " 'slept': 620,\n",
              " 'die': 621,\n",
              " 'hasnt': 622,\n",
              " 'zero': 623,\n",
              " 'your': 624,\n",
              " 'truli': 625,\n",
              " 'benefit': 626,\n",
              " 'awak': 627,\n",
              " 'compar': 628,\n",
              " 'easili': 629,\n",
              " 'patient': 630,\n",
              " 'unbear': 631,\n",
              " 'chantix': 632,\n",
              " 'seroquel': 633,\n",
              " 'add': 634,\n",
              " 'handl': 635,\n",
              " 'slow': 636,\n",
              " 'alcohol': 637,\n",
              " 'diseas': 638,\n",
              " 'loestrin': 639,\n",
              " 'weak': 640,\n",
              " 'daughter': 641,\n",
              " 'vision': 642,\n",
              " 'allerg': 643,\n",
              " 'clean': 644,\n",
              " 'up': 645,\n",
              " 'throughout': 646,\n",
              " 'show': 647,\n",
              " 'moder': 648,\n",
              " 'nuvar': 649,\n",
              " 'cure': 650,\n",
              " 'hell': 651,\n",
              " 'libido': 652,\n",
              " 'state': 653,\n",
              " 'lack': 654,\n",
              " 'wrong': 655,\n",
              " 'miser': 656,\n",
              " 'rare': 657,\n",
              " 'arthriti': 658,\n",
              " 'disappear': 659,\n",
              " 'unabl': 660,\n",
              " 'perfect': 661,\n",
              " 'mostli': 662,\n",
              " 'avoid': 663,\n",
              " 'ambien': 664,\n",
              " 'condom': 665,\n",
              " 'fear': 666,\n",
              " 'annoy': 667,\n",
              " 'complaint': 668,\n",
              " 'stori': 669,\n",
              " 'syndrom': 670,\n",
              " 'throw': 671,\n",
              " 'concentr': 672,\n",
              " 'discomfort': 673,\n",
              " 'femal': 674,\n",
              " 'adderal': 675,\n",
              " 'figur': 676,\n",
              " 'stand': 677,\n",
              " 'contrav': 678,\n",
              " 'bone': 679,\n",
              " 'ear': 680,\n",
              " 'movement': 681,\n",
              " 'pharmaci': 682,\n",
              " 'bled': 683,\n",
              " 'receiv': 684,\n",
              " 'awesom': 685,\n",
              " 'mine': 686,\n",
              " 'klonopin': 687,\n",
              " 'xr': 688,\n",
              " 'angri': 689,\n",
              " 'spasm': 690,\n",
              " 'process': 691,\n",
              " 'cyst': 692,\n",
              " 'hous': 693,\n",
              " 'afraid': 694,\n",
              " 'lyrica': 695,\n",
              " 'write': 696,\n",
              " 'matter': 697,\n",
              " 'cancer': 698,\n",
              " 'higher': 699,\n",
              " 'depend': 700,\n",
              " 'sinu': 701,\n",
              " 'easier': 702,\n",
              " 'cystic': 703,\n",
              " 'readi': 704,\n",
              " 'uti': 705,\n",
              " 'breakthrough': 706,\n",
              " 'pristiq': 707,\n",
              " 'ring': 708,\n",
              " 'kill': 709,\n",
              " 'march': 710,\n",
              " 'memori': 711,\n",
              " 'top': 712,\n",
              " 'basic': 713,\n",
              " 'lip': 714,\n",
              " 'children': 715,\n",
              " 'motiv': 716,\n",
              " 'prep': 717,\n",
              " 'shoulder': 718,\n",
              " 'appoint': 719,\n",
              " 'insid': 720,\n",
              " 'discontinu': 721,\n",
              " 'sampl': 722,\n",
              " 'therapi': 723,\n",
              " 'shake': 724,\n",
              " 'suboxon': 725,\n",
              " 'warn': 726,\n",
              " 'discharg': 727,\n",
              " 'middl': 728,\n",
              " 'regul': 729,\n",
              " 'price': 730,\n",
              " 'ten': 731,\n",
              " 'number': 732,\n",
              " 'race': 733,\n",
              " 'hardli': 734,\n",
              " 'nice': 735,\n",
              " 'fe': 736,\n",
              " 'heard': 737,\n",
              " 'method': 738,\n",
              " 'restless': 739,\n",
              " 'mix': 740,\n",
              " 'june': 741,\n",
              " 'idea': 742,\n",
              " 'flu': 743,\n",
              " 'name': 744,\n",
              " 'juli': 745,\n",
              " 'natur': 746,\n",
              " 'choic': 747,\n",
              " 'mess': 748,\n",
              " 'ibuprofen': 749,\n",
              " 'money': 750,\n",
              " 'addit': 751,\n",
              " 'comment': 752,\n",
              " 'replac': 753,\n",
              " 'swollen': 754,\n",
              " 'ate': 755,\n",
              " 'happier': 756,\n",
              " 'updat': 757,\n",
              " 'nurs': 758,\n",
              " 'lo': 759,\n",
              " 'psychiatrist': 760,\n",
              " 'flare': 761,\n",
              " 'freak': 762,\n",
              " 'extra': 763,\n",
              " 'multipl': 764,\n",
              " 'us': 765,\n",
              " 'fever': 766,\n",
              " 'quick': 767,\n",
              " 'diabet': 768,\n",
              " 'exactli': 769,\n",
              " 'bedtim': 770,\n",
              " 'tingl': 771,\n",
              " 'qualiti': 772,\n",
              " 'relat': 773,\n",
              " 'women': 774,\n",
              " 'watch': 775,\n",
              " 'exhaust': 776,\n",
              " 'situat': 777,\n",
              " 'bladder': 778,\n",
              " 'open': 779,\n",
              " 'wife': 780,\n",
              " 'understand': 781,\n",
              " 'wash': 782,\n",
              " 'gel': 783,\n",
              " 'abdomin': 784,\n",
              " 'loos': 785,\n",
              " 'otherwis': 786,\n",
              " 'signific': 787,\n",
              " 'smell': 788,\n",
              " 'heal': 789,\n",
              " 'incred': 790,\n",
              " 'avail': 791,\n",
              " 'visit': 792,\n",
              " 'accutan': 793,\n",
              " 'colleg': 794,\n",
              " 'tramadol': 795,\n",
              " 'previous': 796,\n",
              " 'consist': 797,\n",
              " 'relationship': 798,\n",
              " 'vyvans': 799,\n",
              " 'site': 800,\n",
              " 'sprintec': 801,\n",
              " 'abilifi': 802,\n",
              " 'lay': 803,\n",
              " 'lamict': 804,\n",
              " 'chanc': 805,\n",
              " 'flow': 806,\n",
              " 'room': 807,\n",
              " 'disc': 808,\n",
              " 'larg': 809,\n",
              " 'non': 810,\n",
              " 'drank': 811,\n",
              " 'fail': 812,\n",
              " 'confid': 813,\n",
              " 'finger': 814,\n",
              " 'august': 815,\n",
              " 'ortho': 816,\n",
              " 'januari': 817,\n",
              " 'chill': 818,\n",
              " 'kidney': 819,\n",
              " 'unprotect': 820,\n",
              " 'besid': 821,\n",
              " 'afterward': 822,\n",
              " 'april': 823,\n",
              " 'quot': 824,\n",
              " 'tomorrow': 825,\n",
              " 'scar': 826,\n",
              " 'suck': 827,\n",
              " 'cup': 828,\n",
              " 'list': 829,\n",
              " 'buy': 830,\n",
              " 'wean': 831,\n",
              " 'eas': 832,\n",
              " 'ssri': 833,\n",
              " 'share': 834,\n",
              " 'ovul': 835,\n",
              " 'bother': 836,\n",
              " 'psoriasi': 837,\n",
              " 'compani': 838,\n",
              " 'hip': 839,\n",
              " 'bp': 840,\n",
              " 'saver': 841,\n",
              " 'clot': 842,\n",
              " 'sensat': 843,\n",
              " 'acid': 844,\n",
              " 'desir': 845,\n",
              " 'excit': 846,\n",
              " 'male': 847,\n",
              " 'colonoscopi': 848,\n",
              " 'damag': 849,\n",
              " 'mom': 850,\n",
              " 'market': 851,\n",
              " 'serious': 852,\n",
              " 'greatli': 853,\n",
              " 'bump': 854,\n",
              " 'learn': 855,\n",
              " 'erect': 856,\n",
              " 'react': 857,\n",
              " 'origin': 858,\n",
              " 'near': 859,\n",
              " 'vagin': 860,\n",
              " 'hold': 861,\n",
              " 'togeth': 862,\n",
              " 'significantli': 863,\n",
              " 'chin': 864,\n",
              " 'stuck': 865,\n",
              " 'somewhat': 866,\n",
              " 'risk': 867,\n",
              " 'habit': 868,\n",
              " 'alon': 869,\n",
              " 'fit': 870,\n",
              " 'bought': 871,\n",
              " 'deep': 872,\n",
              " 'excess': 873,\n",
              " 'gabapentin': 874,\n",
              " 'belviq': 875,\n",
              " 'surpris': 876,\n",
              " 'hive': 877,\n",
              " 'stool': 878,\n",
              " 'ga': 879,\n",
              " 'excel': 880,\n",
              " 'spent': 881,\n",
              " 'releas': 882,\n",
              " 'asthma': 883,\n",
              " 'forc': 884,\n",
              " 'ladi': 885,\n",
              " 'downsid': 886,\n",
              " 'schedul': 887,\n",
              " 'direct': 888,\n",
              " 'decis': 889,\n",
              " 'whatsoev': 890,\n",
              " 'iv': 891,\n",
              " 'difficulti': 892,\n",
              " 'woman': 893,\n",
              " 'similar': 894,\n",
              " 'previou': 895,\n",
              " 'fell': 896,\n",
              " 'oral': 897,\n",
              " 'pull': 898,\n",
              " 'agre': 899,\n",
              " 'epiduo': 900,\n",
              " 'frustrat': 901,\n",
              " 'advis': 902,\n",
              " 'thyroid': 903,\n",
              " 'touch': 904,\n",
              " 'liver': 905,\n",
              " 'order': 906,\n",
              " 'counter': 907,\n",
              " 'advic': 908,\n",
              " 'hear': 909,\n",
              " 'scari': 910,\n",
              " 'complain': 911,\n",
              " 'octob': 912,\n",
              " 'clinic': 913,\n",
              " 'altern': 914,\n",
              " 'urg': 915,\n",
              " 'set': 916,\n",
              " 'tremend': 917,\n",
              " 'tired': 918,\n",
              " 'oh': 919,\n",
              " 'mother': 920,\n",
              " 'strang': 921,\n",
              " 'ocd': 922,\n",
              " 'count': 923,\n",
              " 'topamax': 924,\n",
              " 'progress': 925,\n",
              " 'occur': 926,\n",
              " 'pad': 927,\n",
              " 'empti': 928,\n",
              " 'worsen': 929,\n",
              " 'round': 930,\n",
              " 'world': 931,\n",
              " 'offic': 932,\n",
              " 'fight': 933,\n",
              " 'afford': 934,\n",
              " 'decemb': 935,\n",
              " 'there': 936,\n",
              " 'knock': 937,\n",
              " 'fix': 938,\n",
              " 'accid': 939,\n",
              " 'dark': 940,\n",
              " 'stone': 941,\n",
              " 'phentermin': 942,\n",
              " 'afternoon': 943,\n",
              " 'ativan': 944,\n",
              " 'upper': 945,\n",
              " 'mark': 946,\n",
              " 'car': 947,\n",
              " 'ton': 948,\n",
              " 'c': 949,\n",
              " 'sign': 950,\n",
              " 'cheek': 951,\n",
              " 'interest': 952,\n",
              " 'comfort': 953,\n",
              " 'despit': 954,\n",
              " 'beat': 955,\n",
              " 'forward': 956,\n",
              " 'methadon': 957,\n",
              " 'zombi': 958,\n",
              " 'opiat': 959,\n",
              " 'menstrual': 960,\n",
              " 'vivid': 961,\n",
              " 'balanc': 962,\n",
              " 'random': 963,\n",
              " 'act': 964,\n",
              " 'sort': 965,\n",
              " 'anger': 966,\n",
              " 'push': 967,\n",
              " 'till': 968,\n",
              " 'contracept': 969,\n",
              " 'percocet': 970,\n",
              " 'girl': 971,\n",
              " 'remain': 972,\n",
              " 'import': 973,\n",
              " 'white': 974,\n",
              " 'note': 975,\n",
              " 'liquid': 976,\n",
              " 'unless': 977,\n",
              " 'reach': 978,\n",
              " 'skip': 979,\n",
              " 'cigarett': 980,\n",
              " 'doubl': 981,\n",
              " 'moment': 982,\n",
              " 'debilit': 983,\n",
              " 'wow': 984,\n",
              " 'provid': 985,\n",
              " 'requir': 986,\n",
              " 'toilet': 987,\n",
              " 'report': 988,\n",
              " 'taper': 989,\n",
              " 'nauseat': 990,\n",
              " 'emerg': 991,\n",
              " 'calori': 992,\n",
              " 'monistat': 993,\n",
              " 'nasti': 994,\n",
              " 'sens': 995,\n",
              " 'line': 996,\n",
              " 'grade': 997,\n",
              " 'speak': 998,\n",
              " 'lung': 999,\n",
              " 'metformin': 1000,\n",
              " ...}"
            ]
          },
          "metadata": {},
          "execution_count": 68
        }
      ],
      "source": [
        "word_index=tokenizer.word_index\n",
        "word_index"
      ]
    },
    {
      "cell_type": "code",
      "execution_count": null,
      "metadata": {
        "id": "U7PK4bi4epbE"
      },
      "outputs": [],
      "source": [
        "#transform text to sequences\n",
        "sequences_train=tokenizer.texts_to_sequences(data_train)\n",
        "sequences_test=tokenizer.texts_to_sequences(data_test)"
      ]
    },
    {
      "cell_type": "code",
      "execution_count": null,
      "metadata": {
        "id": "J6YGStjje8fU",
        "colab": {
          "base_uri": "https://localhost:8080/"
        },
        "outputId": "4b0c67fe-e772-4c9a-cbe4-b735675aaa6a"
      },
      "outputs": [
        {
          "output_type": "execute_result",
          "data": {
            "text/plain": [
              "array([   0,    0,    0,    0,    0,    0,    0,    0,    0,    0,    0,\n",
              "          0,    0,    0,    0,    0,    0,    0,    0,    0,    0,    0,\n",
              "          0,    0,    0,    0,    0,    0,    0,    0,    0,    0,    0,\n",
              "          0,    0,    0,    0,    0,    0,    0,    0,    0,    0,    0,\n",
              "          0,    0,    0,    0,    0,    0,    0,    0,    0,    0,    0,\n",
              "          0,    0,    0,    0,    0,    0,   13,    6,    2,  495, 2174,\n",
              "         17, 2447, 1192], dtype=int32)"
            ]
          },
          "metadata": {},
          "execution_count": 70
        }
      ],
      "source": [
        "#pad sequences to fixed length with zeros\n",
        "padded_train=pad_sequences(sequences_train,maxlen=max_length)\n",
        "padded_test=pad_sequences(sequences_test,maxlen=max_length)\n",
        "padded_train[0]"
      ]
    },
    {
      "cell_type": "code",
      "execution_count": null,
      "metadata": {
        "colab": {
          "base_uri": "https://localhost:8080/"
        },
        "id": "ghUsfDmNRaJu",
        "outputId": "c51eadc0-3acf-4f5a-f72e-ba00dee5ac29"
      },
      "outputs": [
        {
          "output_type": "execute_result",
          "data": {
            "text/plain": [
              "(161297, 69, 1)"
            ]
          },
          "metadata": {},
          "execution_count": 71
        }
      ],
      "source": [
        "#expand the dimension of the training set to be accepted by keras\n",
        "X_train= np.expand_dims( np.array(padded_train),axis=2)\n",
        "X_train.shape"
      ]
    },
    {
      "cell_type": "code",
      "execution_count": null,
      "metadata": {
        "colab": {
          "base_uri": "https://localhost:8080/"
        },
        "id": "YndyBb1qxHpy",
        "outputId": "cc6802ae-5e89-4fbd-e753-d67398602c7c"
      },
      "outputs": [
        {
          "output_type": "execute_result",
          "data": {
            "text/plain": [
              "9    50989\n",
              "8    27531\n",
              "0    21619\n",
              "7    18890\n",
              "6     9456\n",
              "4     8013\n",
              "1     6931\n",
              "2     6513\n",
              "5     6343\n",
              "3     5012\n",
              "Name: rating, dtype: int64"
            ]
          },
          "metadata": {},
          "execution_count": 72
        }
      ],
      "source": [
        "Y_train=train['rating']-1# to facilitate the transformation into one-hot encoding using tensorflow utils\n",
        "Y_train.value_counts() "
      ]
    },
    {
      "cell_type": "code",
      "execution_count": null,
      "metadata": {
        "colab": {
          "base_uri": "https://localhost:8080/"
        },
        "id": "SOkDsy3YzosK",
        "outputId": "a94b9a1a-294f-48ca-a51d-f08efea79871"
      },
      "outputs": [
        {
          "output_type": "execute_result",
          "data": {
            "text/plain": [
              "(53766, 69, 1)"
            ]
          },
          "metadata": {},
          "execution_count": 73
        }
      ],
      "source": [
        "#expand the dimension of the test set to be accepted by keras\n",
        "X_test=np.expand_dims( np.array(padded_test),axis=2)\n",
        "X_test.shape"
      ]
    },
    {
      "cell_type": "code",
      "execution_count": null,
      "metadata": {
        "colab": {
          "base_uri": "https://localhost:8080/"
        },
        "id": "MGxzmCM6z2qN",
        "outputId": "e4c192a2-7dfd-4c82-ef42-9625b4fb5eb7"
      },
      "outputs": [
        {
          "output_type": "execute_result",
          "data": {
            "text/plain": [
              "9    17016\n",
              "8     9177\n",
              "0     7299\n",
              "7     6156\n",
              "6     3091\n",
              "4     2710\n",
              "1     2334\n",
              "2     2205\n",
              "5     2119\n",
              "3     1659\n",
              "Name: rating, dtype: int64"
            ]
          },
          "metadata": {},
          "execution_count": 74
        }
      ],
      "source": [
        "Y_test=test['rating']-1# to facilitate the transformation into one-hot encoding using tensorflow utils\n",
        "Y_test.value_counts()"
      ]
    },
    {
      "cell_type": "code",
      "execution_count": null,
      "metadata": {
        "id": "J9d9pmsSWruS"
      },
      "outputs": [],
      "source": [
        "Y_train_2=Y_train.copy()#make a copy to be used in 4_class classification\n",
        "Y_train_3=Y_train.copy()#make a copy to be used in 4_class classification"
      ]
    },
    {
      "cell_type": "code",
      "execution_count": null,
      "metadata": {
        "id": "o-PrK5mvW1pN"
      },
      "outputs": [],
      "source": [
        "Y_test_2=Y_test.copy()#make a copy to be used in 2_class classification\n",
        "Y_test_3=Y_test.copy()#make a copy to be used in 2_class classification"
      ]
    },
    {
      "cell_type": "markdown",
      "source": [
        "## 10 classe clasification\n",
        "\n",
        "\n",
        "\n",
        "\n"
      ],
      "metadata": {
        "id": "FDXWVbCm-SmM"
      }
    },
    {
      "cell_type": "code",
      "execution_count": null,
      "metadata": {
        "id": "r3NHLBdb6Ap-"
      },
      "outputs": [],
      "source": [
        "#One-hot encoding \n",
        "Y_train_1=tf.keras.utils.to_categorical(Y_train,num_classes=10)\n",
        "Y_test_1=tf.keras.utils.to_categorical(Y_test,num_classes=10)"
      ]
    },
    {
      "cell_type": "code",
      "execution_count": null,
      "metadata": {
        "colab": {
          "base_uri": "https://localhost:8080/"
        },
        "id": "Hvw8odznxTMp",
        "outputId": "43bbd010-d11b-47ba-9029-f778cbb40201"
      },
      "outputs": [
        {
          "name": "stdout",
          "output_type": "stream",
          "text": [
            "Model: \"sequential_1\"\n",
            "_________________________________________________________________\n",
            " Layer (type)                Output Shape              Param #   \n",
            "=================================================================\n",
            " embedding_1 (Embedding)     (None, 69, 128)           7909248   \n",
            "                                                                 \n",
            " lstm_1 (LSTM)               (None, 32)                20608     \n",
            "                                                                 \n",
            " dense_1 (Dense)             (None, 10)                330       \n",
            "                                                                 \n",
            "=================================================================\n",
            "Total params: 7,930,186\n",
            "Trainable params: 7,930,186\n",
            "Non-trainable params: 0\n",
            "_________________________________________________________________\n"
          ]
        }
      ],
      "source": [
        "model=Sequential()\n",
        "model.add(Embedding(vocab_size,128,input_length=max_length)) #add and embedding layer\n",
        "model.add(LSTM(32)) #LSTM with 32 units\n",
        "model.add(Dense(10,activation=\"softmax\")) #softmax for classification\n",
        "model.summary()"
      ]
    },
    {
      "cell_type": "code",
      "execution_count": null,
      "metadata": {
        "id": "uuFQ4Tew1awO"
      },
      "outputs": [],
      "source": [
        "#compile the model\n",
        "model.compile(loss=tf.keras.losses.CategoricalCrossentropy()#use categorical cross entropy as loss function\n",
        "              ,optimizer=\"adam\", # use adam as optimizer with default parameters\n",
        "              metrics=\"accuracy\"# we use accuracy as metric\n",
        "              )"
      ]
    },
    {
      "cell_type": "code",
      "execution_count": null,
      "metadata": {
        "colab": {
          "base_uri": "https://localhost:8080/"
        },
        "id": "KgjGze621jlX",
        "outputId": "1f4ec44a-5670-4228-8f04-f45e42a47999"
      },
      "outputs": [
        {
          "name": "stdout",
          "output_type": "stream",
          "text": [
            "Epoch 1/9\n",
            "5041/5041 [==============================] - 643s 128ms/step - loss: 0.1147 - accuracy: 0.9656 - val_loss: 2.4350 - val_accuracy: 0.6924\n",
            "Epoch 2/9\n",
            "5041/5041 [==============================] - 650s 129ms/step - loss: 0.1066 - accuracy: 0.9676 - val_loss: 2.4753 - val_accuracy: 0.6997\n",
            "Epoch 3/9\n",
            "5041/5041 [==============================] - 650s 129ms/step - loss: 0.1007 - accuracy: 0.9695 - val_loss: 2.5257 - val_accuracy: 0.7005\n",
            "Epoch 4/9\n",
            "5041/5041 [==============================] - 650s 129ms/step - loss: 0.0946 - accuracy: 0.9720 - val_loss: 2.5796 - val_accuracy: 0.6961\n",
            "Epoch 5/9\n",
            "5041/5041 [==============================] - 651s 129ms/step - loss: 0.0881 - accuracy: 0.9737 - val_loss: 2.6151 - val_accuracy: 0.7020\n",
            "Epoch 6/9\n",
            "5041/5041 [==============================] - 652s 129ms/step - loss: 0.0846 - accuracy: 0.9743 - val_loss: 2.7155 - val_accuracy: 0.7010\n",
            "Epoch 7/9\n",
            "5041/5041 [==============================] - 651s 129ms/step - loss: 0.0801 - accuracy: 0.9764 - val_loss: 2.6920 - val_accuracy: 0.7045\n",
            "Epoch 8/9\n",
            "5041/5041 [==============================] - 652s 129ms/step - loss: 0.0783 - accuracy: 0.9764 - val_loss: 2.7565 - val_accuracy: 0.7062\n",
            "Epoch 9/9\n",
            "5041/5041 [==============================] - 649s 129ms/step - loss: 0.0726 - accuracy: 0.9781 - val_loss: 2.7916 - val_accuracy: 0.7051\n"
          ]
        },
        {
          "data": {
            "text/plain": [
              "<keras.callbacks.History at 0x7fbb48dde2d0>"
            ]
          },
          "execution_count": 45,
          "metadata": {},
          "output_type": "execute_result"
        }
      ],
      "source": [
        "#train the model\n",
        "model.fit(X_train,Y_train_1,epochs=9,batch_size=32,validation_data=(X_test,Y_test_1))"
      ]
    },
    {
      "cell_type": "code",
      "execution_count": null,
      "metadata": {
        "id": "ygp4Nfe6aMEs"
      },
      "outputs": [],
      "source": [
        "#save the model\n",
        "model.save(\"/content/drive/MyDrive/drugReviews2.h5\")"
      ]
    },
    {
      "cell_type": "markdown",
      "source": [
        "## 4 classe classification"
      ],
      "metadata": {
        "id": "ojmHrzkS_V7O"
      }
    },
    {
      "cell_type": "code",
      "execution_count": null,
      "metadata": {
        "id": "q3uDv0iXW1sI"
      },
      "outputs": [],
      "source": [
        "for i,_ in Y_train_2.iteritems():\n",
        "  if _ <3:Y_train_2[i]=0\n",
        "  if _ >=3 and _<5:Y_train_2[i]=1\n",
        "  if _ >=5 and _<8:Y_train_2[i]=2\n",
        "  if _ >=8:Y_train_2[i]=3"
      ]
    },
    {
      "cell_type": "code",
      "execution_count": null,
      "metadata": {
        "id": "MTCEbZCzXbf3"
      },
      "outputs": [],
      "source": [
        "for i,_ in Y_test_2.iteritems():\n",
        "  if _ <3:Y_test_2[i]=0\n",
        "  if _ >=3 and _<5:Y_test_2[i]=1\n",
        "  if _ >=5 and _<8:Y_test_2[i]=2\n",
        "  if _ >=8:Y_test_2[i]=3"
      ]
    },
    {
      "cell_type": "code",
      "execution_count": null,
      "metadata": {
        "id": "2uaJKo18Up6Z"
      },
      "outputs": [],
      "source": [
        "#One-hot encoding\n",
        "Y_train_2=tf.keras.utils.to_categorical(Y_train_2,num_classes=4)\n",
        "Y_test_2=tf.keras.utils.to_categorical(Y_test_2,num_classes=4)"
      ]
    },
    {
      "cell_type": "code",
      "execution_count": null,
      "metadata": {
        "colab": {
          "base_uri": "https://localhost:8080/"
        },
        "id": "N0coM9beX11u",
        "outputId": "afa5fa54-c80f-465e-802c-17b671bbf6b7"
      },
      "outputs": [
        {
          "output_type": "stream",
          "name": "stdout",
          "text": [
            "Model: \"sequential_2\"\n",
            "_________________________________________________________________\n",
            " Layer (type)                Output Shape              Param #   \n",
            "=================================================================\n",
            " embedding_2 (Embedding)     (None, 69, 128)           7909248   \n",
            "                                                                 \n",
            " lstm_2 (LSTM)               (None, 32)                20608     \n",
            "                                                                 \n",
            " dropout_2 (Dropout)         (None, 32)                0         \n",
            "                                                                 \n",
            " dense_2 (Dense)             (None, 4)                 132       \n",
            "                                                                 \n",
            "=================================================================\n",
            "Total params: 7,929,988\n",
            "Trainable params: 7,929,988\n",
            "Non-trainable params: 0\n",
            "_________________________________________________________________\n"
          ]
        }
      ],
      "source": [
        "model=Sequential()\n",
        "model.add(Embedding(vocab_size,128,input_length=max_length))\n",
        "model.add(LSTM(32))\n",
        "model.add(Dropout(0.4))\n",
        "model.add(Dense(4,activation=\"softmax\"))\n",
        "model.summary()"
      ]
    },
    {
      "cell_type": "code",
      "execution_count": null,
      "metadata": {
        "id": "tIr0vILCXssm"
      },
      "outputs": [],
      "source": [
        "model.compile(loss=tf.keras.losses.CategoricalCrossentropy(),optimizer=\"adam\",metrics=\"accuracy\")"
      ]
    },
    {
      "cell_type": "code",
      "execution_count": null,
      "metadata": {
        "colab": {
          "base_uri": "https://localhost:8080/"
        },
        "id": "Cbozr4VlX99e",
        "outputId": "6133d44d-3382-45e0-a590-9808d6d36e46"
      },
      "outputs": [
        {
          "output_type": "stream",
          "name": "stdout",
          "text": [
            "Epoch 1/10\n",
            "5041/5041 [==============================] - 612s 121ms/step - loss: 0.2107 - accuracy: 0.9252 - val_loss: 0.9403 - val_accuracy: 0.7796\n",
            "Epoch 2/10\n",
            "5041/5041 [==============================] - 616s 122ms/step - loss: 0.1942 - accuracy: 0.9320 - val_loss: 0.9585 - val_accuracy: 0.7814\n",
            "Epoch 3/10\n",
            "5041/5041 [==============================] - 603s 120ms/step - loss: 0.1781 - accuracy: 0.9376 - val_loss: 0.9724 - val_accuracy: 0.7878\n",
            "Epoch 4/10\n",
            "5041/5041 [==============================] - 607s 120ms/step - loss: 0.1647 - accuracy: 0.9432 - val_loss: 0.9888 - val_accuracy: 0.7903\n",
            "Epoch 5/10\n",
            "5041/5041 [==============================] - 607s 120ms/step - loss: 0.1522 - accuracy: 0.9479 - val_loss: 1.0853 - val_accuracy: 0.7893\n",
            "Epoch 6/10\n",
            "5041/5041 [==============================] - 604s 120ms/step - loss: 0.1441 - accuracy: 0.9497 - val_loss: 1.0751 - val_accuracy: 0.7936\n",
            "Epoch 7/10\n",
            "5041/5041 [==============================] - 609s 121ms/step - loss: 0.1339 - accuracy: 0.9544 - val_loss: 1.1125 - val_accuracy: 0.7948\n",
            "Epoch 8/10\n",
            "5041/5041 [==============================] - 608s 121ms/step - loss: 0.1259 - accuracy: 0.9573 - val_loss: 1.1342 - val_accuracy: 0.7962\n",
            "Epoch 9/10\n",
            "5041/5041 [==============================] - 600s 119ms/step - loss: 0.1174 - accuracy: 0.9608 - val_loss: 1.1476 - val_accuracy: 0.8001\n",
            "Epoch 10/10\n",
            "5041/5041 [==============================] - 601s 119ms/step - loss: 0.1173 - accuracy: 0.9608 - val_loss: 1.1238 - val_accuracy: 0.7967\n"
          ]
        },
        {
          "output_type": "execute_result",
          "data": {
            "text/plain": [
              "<keras.callbacks.History at 0x7f8afc20cad0>"
            ]
          },
          "metadata": {},
          "execution_count": 84
        }
      ],
      "source": [
        "model.fit(X_train,Y_train_2,epochs=10,batch_size=32,validation_data=(X_test,Y_test_2))"
      ]
    },
    {
      "cell_type": "code",
      "execution_count": null,
      "metadata": {
        "id": "EArbdizcNkcw"
      },
      "outputs": [],
      "source": [
        "model.save(\"/content/drive/MyDrive/drugReviews_4Classes.h5\")"
      ]
    },
    {
      "cell_type": "markdown",
      "source": [
        "## 2 class classification"
      ],
      "metadata": {
        "id": "6iC_94aF_lW3"
      }
    },
    {
      "cell_type": "code",
      "source": [
        "for i,_ in Y_train_3.iteritems():\n",
        "  if _ <5:Y_train_3[i]=0\n",
        "  if _ >=5:Y_train_3[i]=1"
      ],
      "metadata": {
        "id": "7BuenNL6_q3C"
      },
      "execution_count": null,
      "outputs": []
    },
    {
      "cell_type": "code",
      "source": [
        "for i,_ in Y_test_3.iteritems():\n",
        "  if _ <5:Y_test_3[i]=0\n",
        "  if _ >=5:Y_test_3[i]=1"
      ],
      "metadata": {
        "id": "qhNZYzww_1gS"
      },
      "execution_count": null,
      "outputs": []
    },
    {
      "cell_type": "code",
      "source": [
        "#One-hot encoding\n",
        "Y_train_3=tf.keras.utils.to_categorical(Y_train_3,num_classes=2)\n",
        "Y_test_3=tf.keras.utils.to_categorical(Y_test_3,num_classes=2)"
      ],
      "metadata": {
        "id": "GkJK3_yj_6dd"
      },
      "execution_count": null,
      "outputs": []
    },
    {
      "cell_type": "code",
      "source": [
        "model=Sequential()\n",
        "model.add(Embedding(vocab_size,128,input_length=max_length))\n",
        "model.add(LSTM(32))\n",
        "model.add(Dropout(0.4))\n",
        "model.add(Dense(2,activation=\"softmax\"))\n",
        "model.summary()"
      ],
      "metadata": {
        "colab": {
          "base_uri": "https://localhost:8080/"
        },
        "id": "zsVya8FCAH45",
        "outputId": "534e2eb5-f171-4271-a23e-a5e6844b59ed"
      },
      "execution_count": null,
      "outputs": [
        {
          "output_type": "stream",
          "name": "stdout",
          "text": [
            "Model: \"sequential_5\"\n",
            "_________________________________________________________________\n",
            " Layer (type)                Output Shape              Param #   \n",
            "=================================================================\n",
            " embedding_5 (Embedding)     (None, 69, 128)           7909248   \n",
            "                                                                 \n",
            " lstm_5 (LSTM)               (None, 32)                20608     \n",
            "                                                                 \n",
            " dropout_5 (Dropout)         (None, 32)                0         \n",
            "                                                                 \n",
            " dense_5 (Dense)             (None, 2)                 66        \n",
            "                                                                 \n",
            "=================================================================\n",
            "Total params: 7,929,922\n",
            "Trainable params: 7,929,922\n",
            "Non-trainable params: 0\n",
            "_________________________________________________________________\n"
          ]
        }
      ]
    },
    {
      "cell_type": "code",
      "source": [
        "model.compile(loss=tf.keras.losses.CategoricalCrossentropy(),optimizer=\"adam\",metrics=\"accuracy\")"
      ],
      "metadata": {
        "id": "YCodm8tnAJ4d"
      },
      "execution_count": null,
      "outputs": []
    },
    {
      "cell_type": "code",
      "source": [
        "model.fit(X_train,Y_train_3,epochs=10,batch_size=32,validation_data=(X_test,Y_test_3))"
      ],
      "metadata": {
        "colab": {
          "base_uri": "https://localhost:8080/"
        },
        "id": "S4tREmDMAMXv",
        "outputId": "73de5be8-20a9-4e80-d5d0-3bfb5d1fa744"
      },
      "execution_count": null,
      "outputs": [
        {
          "output_type": "stream",
          "name": "stdout",
          "text": [
            "Epoch 1/10\n",
            "5041/5041 [==============================] - 623s 123ms/step - loss: 0.3915 - accuracy: 0.8279 - val_loss: 0.3497 - val_accuracy: 0.8478\n",
            "Epoch 2/10\n",
            "5041/5041 [==============================] - 616s 122ms/step - loss: 0.2937 - accuracy: 0.8774 - val_loss: 0.3215 - val_accuracy: 0.8658\n",
            "Epoch 3/10\n",
            "5041/5041 [==============================] - 617s 122ms/step - loss: 0.2286 - accuracy: 0.9078 - val_loss: 0.3064 - val_accuracy: 0.8777\n",
            "Epoch 4/10\n",
            "5041/5041 [==============================] - 618s 123ms/step - loss: 0.1768 - accuracy: 0.9308 - val_loss: 0.3285 - val_accuracy: 0.8822\n",
            "Epoch 5/10\n",
            "5041/5041 [==============================] - 617s 122ms/step - loss: 0.1350 - accuracy: 0.9492 - val_loss: 0.3306 - val_accuracy: 0.8932\n",
            "Epoch 6/10\n",
            "5041/5041 [==============================] - 616s 122ms/step - loss: 0.1076 - accuracy: 0.9599 - val_loss: 0.3564 - val_accuracy: 0.8979\n",
            "Epoch 7/10\n",
            "5041/5041 [==============================] - 617s 122ms/step - loss: 0.0864 - accuracy: 0.9685 - val_loss: 0.3579 - val_accuracy: 0.9013\n",
            "Epoch 8/10\n",
            "5041/5041 [==============================] - 615s 122ms/step - loss: 0.0708 - accuracy: 0.9745 - val_loss: 0.3882 - val_accuracy: 0.9042\n",
            "Epoch 9/10\n",
            "5041/5041 [==============================] - 615s 122ms/step - loss: 0.0598 - accuracy: 0.9787 - val_loss: 0.4068 - val_accuracy: 0.9031\n",
            "Epoch 10/10\n",
            "5041/5041 [==============================] - 613s 122ms/step - loss: 0.0508 - accuracy: 0.9823 - val_loss: 0.4479 - val_accuracy: 0.9070\n"
          ]
        },
        {
          "output_type": "execute_result",
          "data": {
            "text/plain": [
              "<keras.callbacks.History at 0x7f8af4d7fd50>"
            ]
          },
          "metadata": {},
          "execution_count": 99
        }
      ]
    },
    {
      "cell_type": "code",
      "source": [
        "model.save(\"/content/drive/MyDrive/drugReviews_2Classes.h5\")"
      ],
      "metadata": {
        "id": "BuqoXDVkA9un"
      },
      "execution_count": null,
      "outputs": []
    }
  ],
  "metadata": {
    "accelerator": "TPU",
    "colab": {
      "collapsed_sections": [],
      "name": "drugReviews.ipynb",
      "provenance": []
    },
    "kernelspec": {
      "display_name": "Python 3",
      "name": "python3"
    },
    "language_info": {
      "name": "python"
    }
  },
  "nbformat": 4,
  "nbformat_minor": 0
}